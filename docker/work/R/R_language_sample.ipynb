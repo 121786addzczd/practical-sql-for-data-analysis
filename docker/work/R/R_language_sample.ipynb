{
 "cells": [
  {
   "cell_type": "markdown",
   "metadata": {},
   "source": [
    "# R入門"
   ]
  },
  {
   "cell_type": "markdown",
   "metadata": {},
   "source": [
    "## はじめに\n",
    "- 初めに以下のセルを実行してください\n",
    "- 必要なライブラリのインポートとデータベース（PostgreSQL）からのデータ読み込みを行います\n",
    "- 利用が想定されるライブラリは以下セルでインポートしています\n",
    "- その他利用したいライブラリがあればinstall.packages()で適宜インストールしてください\n",
    "- 名前、住所等はダミーデータであり、実在するものではありません"
   ]
  },
  {
   "cell_type": "code",
   "execution_count": 4,
   "metadata": {
    "vscode": {
     "languageId": "r"
    }
   },
   "outputs": [],
   "source": [
    "require(\"RPostgreSQL\")\n",
    "require(\"tidyr\")\n",
    "require(\"dplyr\")\n",
    "require(\"stringr\")\n",
    "require(\"caret\")\n",
    "require(\"lubridate\")\n",
    "require(\"rsample\")\n",
    "require(\"recipes\")\n",
    "require(\"themis\")\n",
    "\n",
    "host <- \"db\"\n",
    "port <- Sys.getenv()[\"PG_PORT\"]\n",
    "dbname <- Sys.getenv()[\"PG_DATABASE\"]\n",
    "user <- Sys.getenv()[\"PG_USER\"]\n",
    "password <- Sys.getenv()[\"PG_PASSWORD\"]\n",
    "\n",
    "con <- dbConnect(PostgreSQL(), host=host, port=port, dbname=dbname, user=user, password=password)\n",
    "df_user_subscriptions <- dbGetQuery(con,\"SELECT * FROM user_subscriptions\")"
   ]
  },
  {
   "cell_type": "markdown",
   "metadata": {},
   "source": [
    "---\n",
    "> R-001: ユーザーのサブスクリプションデータ（user_subscriptions）から全項目の先頭10件を表示し、どのようなデータを保有しているか目視で確認"
   ]
  },
  {
   "cell_type": "code",
   "execution_count": 6,
   "metadata": {
    "vscode": {
     "languageId": "r"
    }
   },
   "outputs": [
    {
     "data": {
      "text/html": [
       "<table class=\"dataframe\">\n",
       "<caption>A data.frame: 10 × 7</caption>\n",
       "<thead>\n",
       "\t<tr><th></th><th scope=col>id</th><th scope=col>user_id</th><th scope=col>subscription_id</th><th scope=col>start_date</th><th scope=col>end_date</th><th scope=col>status</th><th scope=col>created_at</th></tr>\n",
       "\t<tr><th></th><th scope=col>&lt;int&gt;</th><th scope=col>&lt;int&gt;</th><th scope=col>&lt;int&gt;</th><th scope=col>&lt;date&gt;</th><th scope=col>&lt;date&gt;</th><th scope=col>&lt;chr&gt;</th><th scope=col>&lt;dttm&gt;</th></tr>\n",
       "</thead>\n",
       "<tbody>\n",
       "\t<tr><th scope=row>1</th><td> 1</td><td> 1</td><td>1</td><td>2022-09-02</td><td>NA</td><td>active   </td><td>2022-09-02 00:54:33</td></tr>\n",
       "\t<tr><th scope=row>2</th><td> 2</td><td> 2</td><td>2</td><td>2022-09-04</td><td>NA</td><td>active   </td><td>2022-09-04 11:14:31</td></tr>\n",
       "\t<tr><th scope=row>3</th><td> 3</td><td> 3</td><td>1</td><td>2022-09-04</td><td>NA</td><td>active   </td><td>2022-09-04 17:39:57</td></tr>\n",
       "\t<tr><th scope=row>4</th><td> 4</td><td> 4</td><td>1</td><td>2022-09-04</td><td>NA</td><td>active   </td><td>2022-09-04 22:23:29</td></tr>\n",
       "\t<tr><th scope=row>5</th><td> 5</td><td> 5</td><td>1</td><td>2022-09-05</td><td>2023-02-14</td><td>cancelled</td><td>2022-09-05 00:17:57</td></tr>\n",
       "\t<tr><th scope=row>6</th><td> 6</td><td> 6</td><td>2</td><td>2022-09-05</td><td>2023-02-15</td><td>cancelled</td><td>2022-09-05 00:48:05</td></tr>\n",
       "\t<tr><th scope=row>7</th><td> 7</td><td> 7</td><td>1</td><td>2022-09-05</td><td>2023-02-23</td><td>cancelled</td><td>2022-09-05 01:28:29</td></tr>\n",
       "\t<tr><th scope=row>8</th><td> 8</td><td> 8</td><td>2</td><td>2022-09-06</td><td>2023-02-16</td><td>cancelled</td><td>2022-09-06 03:09:11</td></tr>\n",
       "\t<tr><th scope=row>9</th><td> 9</td><td> 9</td><td>1</td><td>2022-09-06</td><td>2023-01-19</td><td>cancelled</td><td>2022-09-06 06:04:55</td></tr>\n",
       "\t<tr><th scope=row>10</th><td>10</td><td>10</td><td>2</td><td>2022-09-06</td><td>2023-01-26</td><td>cancelled</td><td>2022-09-06 07:47:10</td></tr>\n",
       "</tbody>\n",
       "</table>\n"
      ],
      "text/latex": [
       "A data.frame: 10 × 7\n",
       "\\begin{tabular}{r|lllllll}\n",
       "  & id & user\\_id & subscription\\_id & start\\_date & end\\_date & status & created\\_at\\\\\n",
       "  & <int> & <int> & <int> & <date> & <date> & <chr> & <dttm>\\\\\n",
       "\\hline\n",
       "\t1 &  1 &  1 & 1 & 2022-09-02 & NA & active    & 2022-09-02 00:54:33\\\\\n",
       "\t2 &  2 &  2 & 2 & 2022-09-04 & NA & active    & 2022-09-04 11:14:31\\\\\n",
       "\t3 &  3 &  3 & 1 & 2022-09-04 & NA & active    & 2022-09-04 17:39:57\\\\\n",
       "\t4 &  4 &  4 & 1 & 2022-09-04 & NA & active    & 2022-09-04 22:23:29\\\\\n",
       "\t5 &  5 &  5 & 1 & 2022-09-05 & 2023-02-14 & cancelled & 2022-09-05 00:17:57\\\\\n",
       "\t6 &  6 &  6 & 2 & 2022-09-05 & 2023-02-15 & cancelled & 2022-09-05 00:48:05\\\\\n",
       "\t7 &  7 &  7 & 1 & 2022-09-05 & 2023-02-23 & cancelled & 2022-09-05 01:28:29\\\\\n",
       "\t8 &  8 &  8 & 2 & 2022-09-06 & 2023-02-16 & cancelled & 2022-09-06 03:09:11\\\\\n",
       "\t9 &  9 &  9 & 1 & 2022-09-06 & 2023-01-19 & cancelled & 2022-09-06 06:04:55\\\\\n",
       "\t10 & 10 & 10 & 2 & 2022-09-06 & 2023-01-26 & cancelled & 2022-09-06 07:47:10\\\\\n",
       "\\end{tabular}\n"
      ],
      "text/markdown": [
       "\n",
       "A data.frame: 10 × 7\n",
       "\n",
       "| <!--/--> | id &lt;int&gt; | user_id &lt;int&gt; | subscription_id &lt;int&gt; | start_date &lt;date&gt; | end_date &lt;date&gt; | status &lt;chr&gt; | created_at &lt;dttm&gt; |\n",
       "|---|---|---|---|---|---|---|---|\n",
       "| 1 |  1 |  1 | 1 | 2022-09-02 | NA | active    | 2022-09-02 00:54:33 |\n",
       "| 2 |  2 |  2 | 2 | 2022-09-04 | NA | active    | 2022-09-04 11:14:31 |\n",
       "| 3 |  3 |  3 | 1 | 2022-09-04 | NA | active    | 2022-09-04 17:39:57 |\n",
       "| 4 |  4 |  4 | 1 | 2022-09-04 | NA | active    | 2022-09-04 22:23:29 |\n",
       "| 5 |  5 |  5 | 1 | 2022-09-05 | 2023-02-14 | cancelled | 2022-09-05 00:17:57 |\n",
       "| 6 |  6 |  6 | 2 | 2022-09-05 | 2023-02-15 | cancelled | 2022-09-05 00:48:05 |\n",
       "| 7 |  7 |  7 | 1 | 2022-09-05 | 2023-02-23 | cancelled | 2022-09-05 01:28:29 |\n",
       "| 8 |  8 |  8 | 2 | 2022-09-06 | 2023-02-16 | cancelled | 2022-09-06 03:09:11 |\n",
       "| 9 |  9 |  9 | 1 | 2022-09-06 | 2023-01-19 | cancelled | 2022-09-06 06:04:55 |\n",
       "| 10 | 10 | 10 | 2 | 2022-09-06 | 2023-01-26 | cancelled | 2022-09-06 07:47:10 |\n",
       "\n"
      ],
      "text/plain": [
       "   id user_id subscription_id start_date end_date   status   \n",
       "1   1  1      1               2022-09-02 <NA>       active   \n",
       "2   2  2      2               2022-09-04 <NA>       active   \n",
       "3   3  3      1               2022-09-04 <NA>       active   \n",
       "4   4  4      1               2022-09-04 <NA>       active   \n",
       "5   5  5      1               2022-09-05 2023-02-14 cancelled\n",
       "6   6  6      2               2022-09-05 2023-02-15 cancelled\n",
       "7   7  7      1               2022-09-05 2023-02-23 cancelled\n",
       "8   8  8      2               2022-09-06 2023-02-16 cancelled\n",
       "9   9  9      1               2022-09-06 2023-01-19 cancelled\n",
       "10 10 10      2               2022-09-06 2023-01-26 cancelled\n",
       "   created_at         \n",
       "1  2022-09-02 00:54:33\n",
       "2  2022-09-04 11:14:31\n",
       "3  2022-09-04 17:39:57\n",
       "4  2022-09-04 22:23:29\n",
       "5  2022-09-05 00:17:57\n",
       "6  2022-09-05 00:48:05\n",
       "7  2022-09-05 01:28:29\n",
       "8  2022-09-06 03:09:11\n",
       "9  2022-09-06 06:04:55\n",
       "10 2022-09-06 07:47:10"
      ]
     },
     "metadata": {},
     "output_type": "display_data"
    }
   ],
   "source": [
    "head(df_user_subscriptions, n = 10)"
   ]
  },
  {
   "cell_type": "code",
   "execution_count": null,
   "metadata": {},
   "outputs": [],
   "source": []
  }
 ],
 "metadata": {
  "kernelspec": {
   "display_name": "R",
   "language": "R",
   "name": "ir"
  },
  "language_info": {
   "codemirror_mode": "r",
   "file_extension": ".r",
   "mimetype": "text/x-r-source",
   "name": "R",
   "pygments_lexer": "r",
   "version": "4.3.3"
  }
 },
 "nbformat": 4,
 "nbformat_minor": 4
}
