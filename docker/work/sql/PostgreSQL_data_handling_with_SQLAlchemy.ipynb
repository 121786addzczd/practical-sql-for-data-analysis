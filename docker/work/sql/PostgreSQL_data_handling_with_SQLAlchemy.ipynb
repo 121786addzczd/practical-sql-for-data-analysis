{
 "cells": [
  {
   "cell_type": "markdown",
   "metadata": {},
   "source": [
    "# IPython NotebookファイルでPythonのSQLAlchemyを使用してPostgreSQLのデータを操作"
   ]
  },
  {
   "cell_type": "markdown",
   "metadata": {},
   "source": [
    "## はじめに\n",
    "- データベースはPostgreSQL13です\n",
    "- 初めに以下のセルを実行してください\n",
    "- セルに %%sql と記載することでSQLを発行することができます\n",
    "- jupyterからはdescribeコマンドによるテーブル構造の確認ができないため、テーブル構造を確認する場合はlimitを指定したSELECTなどで代用してください\n",
    "- 使い慣れたSQLクライアントを使っても問題ありません（接続情報は以下の通り）\n",
    "  - IPアドレス：Docker Desktopの場合はlocalhost、Docker toolboxの場合は192.168.99.100\n",
    "  - Port:5432\n",
    "  - database名:analysis_postgres_db\n",
    "  - ユーザ名：brain\n",
    "  - パスワード:brain12345\n",
    "- 大量出力を行うとJupyterが固まることがあるため、出力件数は制限することを推奨します\n",
    "    - 結果確認のために表示させる量を適切にコントロールし、作業を軽快にすすめる技術もデータ加工には求められます\n",
    "- 大量結果が出力された場合は、ファイルが重くなり以降開けなくなることもあります\n",
    "    - vimエディタなどで大量出力範囲を削除することもできます\n",
    "- 名前、住所等はダミーデータであり、実在するものではありません"
   ]
  },
  {
   "cell_type": "code",
   "execution_count": 2,
   "metadata": {
    "vscode": {
     "languageId": "plaintext"
    }
   },
   "outputs": [
    {
     "name": "stdout",
     "output_type": "stream",
     "text": [
      "\u001b[33mThere's a new jupysql version available (0.10.10), you're running 0.7.2. To upgrade: pip install jupysql --upgrade\u001b[0m\n"
     ]
    }
   ],
   "source": [
    "# pythonからpostgresqlに接続するための準備\n",
    "%load_ext sql\n",
    "import os\n",
    "from sqlalchemy import create_engine\n",
    "\n",
    "pgconfig = {\n",
    "    'host': 'db',\n",
    "    'port': os.environ['PG_PORT'],\n",
    "    'database': os.environ['PG_DATABASE'],\n",
    "    'user': os.environ['PG_USER'],\n",
    "    'password': os.environ['PG_PASSWORD'],\n",
    "}\n",
    "dsl = 'postgresql://{user}:{password}@{host}:{port}/{database}'.format(**pgconfig)\n",
    "conn = create_engine(dsl)\n",
    "\n",
    "# MagicコマンドでSQLを書くための設定\n",
    "%sql conn"
   ]
  },
  {
   "cell_type": "markdown",
   "metadata": {
    "vscode": {
     "languageId": "plaintext"
    }
   },
   "source": [
    "## 使い方\n",
    "- セルの先頭に%%sqlと記載し、２行目以降にSQLを記述することでJupyterからPostgreSQLに対しSQLを実行できます。"
   ]
  },
  {
   "cell_type": "code",
   "execution_count": 7,
   "metadata": {},
   "outputs": [
    {
     "name": "stdout",
     "output_type": "stream",
     "text": [
      "*  postgresql://brain:***@db:5432/analysis_postgres_db\n",
      "1 rows affected.\n"
     ]
    },
    {
     "data": {
      "text/html": [
       "<table>\n",
       "    <thead>\n",
       "        <tr>\n",
       "            <th>sample</th>\n",
       "        </tr>\n",
       "    </thead>\n",
       "    <tbody>\n",
       "        <tr>\n",
       "            <td>このように実行できます</td>\n",
       "        </tr>\n",
       "    </tbody>\n",
       "</table>"
      ],
      "text/plain": [
       "[('このように実行できます',)]"
      ]
     },
     "execution_count": 7,
     "metadata": {},
     "output_type": "execute_result"
    }
   ],
   "source": [
    "%%sql\n",
    "SELECT 'このように実行できます' AS sample;"
   ]
  },
  {
   "cell_type": "markdown",
   "metadata": {},
   "source": [
    "## 実践"
   ]
  },
  {
   "cell_type": "code",
   "execution_count": 8,
   "metadata": {},
   "outputs": [
    {
     "name": "stdout",
     "output_type": "stream",
     "text": [
      "*  postgresql://brain:***@db:5432/analysis_postgres_db\n",
      "7 rows affected.\n"
     ]
    },
    {
     "data": {
      "text/html": [
       "<table>\n",
       "    <thead>\n",
       "        <tr>\n",
       "            <th>month</th>\n",
       "            <th>basic</th>\n",
       "            <th>premium</th>\n",
       "        </tr>\n",
       "    </thead>\n",
       "    <tbody>\n",
       "        <tr>\n",
       "            <td>2022-09</td>\n",
       "            <td>10</td>\n",
       "            <td>10</td>\n",
       "        </tr>\n",
       "        <tr>\n",
       "            <td>2022-10</td>\n",
       "            <td>10</td>\n",
       "            <td>12</td>\n",
       "        </tr>\n",
       "        <tr>\n",
       "            <td>2022-11</td>\n",
       "            <td>10</td>\n",
       "            <td>12</td>\n",
       "        </tr>\n",
       "        <tr>\n",
       "            <td>2022-12</td>\n",
       "            <td>10</td>\n",
       "            <td>8</td>\n",
       "        </tr>\n",
       "        <tr>\n",
       "            <td>2023-01</td>\n",
       "            <td>9</td>\n",
       "            <td>11</td>\n",
       "        </tr>\n",
       "        <tr>\n",
       "            <td>2023-02</td>\n",
       "            <td>9</td>\n",
       "            <td>11</td>\n",
       "        </tr>\n",
       "        <tr>\n",
       "            <td>2023-03</td>\n",
       "            <td>10</td>\n",
       "            <td>10</td>\n",
       "        </tr>\n",
       "    </tbody>\n",
       "</table>"
      ],
      "text/plain": [
       "[('2022-09', 10, 10),\n",
       " ('2022-10', 10, 12),\n",
       " ('2022-11', 10, 12),\n",
       " ('2022-12', 10, 8),\n",
       " ('2023-01', 9, 11),\n",
       " ('2023-02', 9, 11),\n",
       " ('2023-03', 10, 10)]"
      ]
     },
     "execution_count": 8,
     "metadata": {},
     "output_type": "execute_result"
    }
   ],
   "source": [
    "%%sql\n",
    "-- プランごとの新規ユーザー数を取得\n",
    "SELECT \n",
    "  to_char(us.start_date, 'YYYY-MM') AS month,\n",
    "  COUNT(CASE WHEN s.plan_name = 'basic' THEN 1 END) AS basic,\n",
    "  COUNT(CASE WHEN s.plan_name = 'premium' THEN 1 END) AS premium\n",
    "FROM\n",
    "  user_subscriptions AS us\n",
    "JOIN\n",
    "  subscriptions AS s\n",
    "ON \n",
    "  us.subscription_id = s.id\n",
    "GROUP BY\n",
    "  month\n",
    "ORDER BY \n",
    "  month;"
   ]
  },
  {
   "cell_type": "code",
   "execution_count": null,
   "metadata": {},
   "outputs": [],
   "source": []
  }
 ],
 "metadata": {
  "kernelspec": {
   "display_name": "Python 3 (ipykernel)",
   "language": "python",
   "name": "python3"
  },
  "language_info": {
   "codemirror_mode": {
    "name": "ipython",
    "version": 3
   },
   "file_extension": ".py",
   "mimetype": "text/x-python",
   "name": "python",
   "nbconvert_exporter": "python",
   "pygments_lexer": "ipython3",
   "version": "3.11.9"
  }
 },
 "nbformat": 4,
 "nbformat_minor": 4
}
